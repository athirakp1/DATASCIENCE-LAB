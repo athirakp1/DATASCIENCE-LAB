{
  "nbformat": 4,
  "nbformat_minor": 0,
  "metadata": {
    "colab": {
      "name": "Naïve Bayes Algorithm",
      "provenance": [],
      "include_colab_link": true
    },
    "kernelspec": {
      "name": "python3",
      "display_name": "Python 3"
    },
    "language_info": {
      "name": "python"
    }
  },
  "cells": [
    {
      "cell_type": "markdown",
      "metadata": {
        "id": "view-in-github",
        "colab_type": "text"
      },
      "source": [
        "<a href=\"https://colab.research.google.com/github/athirakp1/DATASCIENCE-LAB/blob/main/CO2_Na%C3%AFve_Bayes_Algorithm.ipynb\" target=\"_parent\"><img src=\"https://colab.research.google.com/assets/colab-badge.svg\" alt=\"Open In Colab\"/></a>"
      ]
    },
    {
      "cell_type": "markdown",
      "source": [
        "Aim: Program to implement Naïve Bayes Algorithm using any standard dataset\n",
        "available in the public domain and find the accuracy of the algorithm"
      ],
      "metadata": {
        "id": "f4TwDjLCpTcn"
      }
    },
    {
      "cell_type": "markdown",
      "source": [
        "\n",
        "Short notes: Naive Bayes\n",
        "\n",
        "Bayes’ Theorem provides a way that we can calculate the probability of a piece of data belonging to a given class, given our prior knowledge. Bayes’ Theorem is stated as:\n",
        "\n",
        "P(class|data) = (P(data|class) * P(class)) / P(data)\n",
        "\n",
        "Where P(class|data) is the probability of class given the provided data."
      ],
      "metadata": {
        "id": "_23W0JVJq1-V"
      }
    },
    {
      "cell_type": "markdown",
      "source": [
        "We are using Iris Dataset. The Iris Flower Dataset involves predicting the flower species given measurements of iris flowers.\n",
        "\n",
        "It is a multiclass classification problem. The number of observations for each class is balanced. There are 150 observations with 4 input variables and 1 output variable. The variable names are as follows:\n",
        "\n",
        "Sepal length in cm.\n",
        "\n",
        "Sepal width in cm.\n",
        "\n",
        "Petal length in cm.\n",
        "\n",
        "Petal width in cm., and\n",
        "\n",
        "Class.\n",
        "\n",
        "Algorithm:\n",
        "\n",
        "Step 1: Separate By Class.\n",
        "\n",
        "Step 2: Summarize Dataset.\n",
        "\n",
        "Step 3: Summarize Data By Class.\n",
        "\n",
        "Step 4: Gaussian Probability Density Function.\n",
        "\n",
        "Step 5: Class Probabilities."
      ],
      "metadata": {
        "id": "Aq3NJZhGrENv"
      }
    },
    {
      "cell_type": "code",
      "source": [
        "#Import Modules\n",
        "import numpy as np\n",
        "import matplotlib.pyplot as plt\n",
        "\n",
        "from sklearn import neighbors, datasets, preprocessing\n",
        "from sklearn.model_selection import train_test_split\n",
        "from sklearn.metrics import accuracy_score\n",
        "from sklearn.metrics import classification_report\n",
        "from sklearn.metrics import confusion_matrix\n",
        "#Load iris dataset & do train_test_split \n",
        "iris= datasets.load_iris()\n",
        "x=iris.data[ : , :  ]\n",
        "y=iris.target\n",
        "x_train,x_test,y_train,y_test=train_test_split(x,y,stratify=y,test_size=0.33,random_state=0)\n",
        "\n"
      ],
      "metadata": {
        "id": "N3sWnWz_rxIR"
      },
      "execution_count": null,
      "outputs": []
    },
    {
      "cell_type": "code",
      "source": [
        "#Feature Scaling\n",
        "scalar=preprocessing.StandardScaler().fit(x_train)\n",
        "x_train=scalar.transform(x_train)\n",
        "x_test=scalar.transform(x_test)\n",
        "x_train"
      ],
      "metadata": {
        "id": "Jq-Uyizutrxu",
        "colab": {
          "base_uri": "https://localhost:8080/"
        },
        "outputId": "b67fb976-dfc8-423d-e50d-2eb029ef015e"
      },
      "execution_count": null,
      "outputs": [
        {
          "output_type": "execute_result",
          "data": {
            "text/plain": [
              "array([[-0.08929295,  2.06443616, -1.4465214 , -1.32561253],\n",
              "       [ 0.38066995,  0.75090308,  0.9028173 ,  1.44984741],\n",
              "       [ 0.1456885 , -1.87616309,  0.1197044 , -0.26829446],\n",
              "       [-1.02921875,  0.75090308, -1.22277486, -1.06128301],\n",
              "       [-0.7942373 ,  0.75090308, -1.33464813, -1.32561253],\n",
              "       [-1.02921875,  0.96982526, -1.39058477, -1.19344777],\n",
              "       [-0.44176513, -1.43831872,  0.00783113, -0.1361297 ],\n",
              "       [ 0.6156514 , -0.78155218,  0.84688067,  0.92118837],\n",
              "       [ 0.26317922, -0.12478564,  0.62313412,  0.78902361],\n",
              "       [ 0.49816068, -0.56263   ,  0.73500739,  0.39252933],\n",
              "       [-1.14670948, -1.21939654,  0.39938758,  0.65685885],\n",
              "       [-0.3242744 , -1.21939654,  0.06376776, -0.1361297 ],\n",
              "       [ 1.0856143 , -0.56263   ,  0.56719749,  0.26036458],\n",
              "       [-0.3242744 , -0.12478564,  0.39938758,  0.39252933],\n",
              "       [-0.20678368, -0.34370782,  0.23157767,  0.12819982],\n",
              "       [ 0.85063285, -0.34370782,  0.45532422,  0.12819982],\n",
              "       [-0.55925585, -0.12478564,  0.39938758,  0.39252933],\n",
              "       [ 2.14303083, -0.56263   ,  1.62999357,  1.05335313],\n",
              "       [-1.73416311, -0.34370782, -1.33464813, -1.32561253],\n",
              "       [ 2.37801228,  1.6265918 ,  1.46218366,  1.05335313],\n",
              "       [ 0.6156514 , -0.34370782,  0.28751431,  0.12819982],\n",
              "       [-1.02921875,  1.18874744, -1.33464813, -1.32561253],\n",
              "       [-0.7942373 ,  2.28335834, -1.27871149, -1.45777729],\n",
              "       [-0.20678368, -1.00047436, -0.15997878, -0.26829446],\n",
              "       [-0.08929295, -0.78155218,  0.06376776, -0.00396494],\n",
              "       [ 0.38066995, -0.34370782,  0.28751431,  0.12819982],\n",
              "       [ 0.26317922, -0.34370782,  0.51126085,  0.26036458],\n",
              "       [ 0.6156514 ,  0.09413654,  0.95875394,  0.78902361],\n",
              "       [-0.7942373 , -0.78155218,  0.06376776,  0.26036458],\n",
              "       [ 2.14303083, -0.12478564,  1.29437375,  1.44984741],\n",
              "       [-0.44176513, -1.6572409 ,  0.1197044 ,  0.12819982],\n",
              "       [ 0.96812358,  0.09413654,  1.01469057,  1.58201216],\n",
              "       [ 1.79055865, -0.56263   ,  1.29437375,  0.92118837],\n",
              "       [-0.91172803,  1.6265918 , -1.05496495, -1.06128301],\n",
              "       [-1.2642002 ,  0.75090308, -1.22277486, -1.32561253],\n",
              "       [-0.55925585,  0.75090308, -1.16683822, -1.32561253],\n",
              "       [-0.55925585,  1.40766962, -1.27871149, -1.32561253],\n",
              "       [-0.20678368,  1.6265918 , -1.16683822, -1.19344777],\n",
              "       [ 0.1456885 , -1.87616309,  0.67907076,  0.39252933],\n",
              "       [ 2.14303083,  1.6265918 ,  1.62999357,  1.31768265],\n",
              "       [-0.20678368,  2.94012488, -1.27871149, -1.06128301],\n",
              "       [-1.2642002 ,  0.09413654, -1.22277486, -1.32561253],\n",
              "       [-1.02921875,  0.31305872, -1.4465214 , -1.32561253],\n",
              "       [ 0.26317922, -0.56263   ,  0.51126085, -0.00396494],\n",
              "       [ 0.73314213, -0.12478564,  0.95875394,  0.78902361],\n",
              "       [-0.55925585,  0.75090308, -1.27871149, -1.06128301],\n",
              "       [ 0.49816068, -1.6572409 ,  0.34345094,  0.12819982],\n",
              "       [ 0.49816068, -1.21939654,  0.62313412,  0.39252933],\n",
              "       [ 0.02819777,  0.31305872,  0.56719749,  0.78902361],\n",
              "       [-0.3242744 , -0.34370782, -0.10404214,  0.12819982],\n",
              "       [-1.14670948,  0.09413654, -1.27871149, -1.32561253],\n",
              "       [ 1.20310503,  0.09413654,  0.73500739,  1.44984741],\n",
              "       [ 0.96812358, -1.21939654,  1.12656384,  0.78902361],\n",
              "       [-1.14670948, -1.43831872, -0.27185205, -0.26829446],\n",
              "       [ 0.26317922, -0.56263   ,  0.1197044 ,  0.12819982],\n",
              "       [ 2.02554011, -0.12478564,  1.57405693,  1.18551789],\n",
              "       [-1.14670948,  1.18874744, -1.33464813, -1.45777729],\n",
              "       [ 0.26317922, -0.12478564,  0.45532422,  0.26036458],\n",
              "       [ 1.5555772 ,  0.31305872,  1.23843712,  0.78902361],\n",
              "       [-1.02921875, -1.6572409 , -0.27185205, -0.26829446],\n",
              "       [ 0.1456885 , -0.34370782,  0.39938758,  0.39252933],\n",
              "       [ 0.6156514 , -0.56263   ,  1.01469057,  1.18551789],\n",
              "       [-1.02921875,  0.96982526, -1.22277486, -0.7969535 ],\n",
              "       [-0.08929295, -1.00047436,  0.1197044 , -0.00396494],\n",
              "       [-0.08929295, -0.56263   ,  0.73500739,  1.58201216],\n",
              "       [-0.44176513,  2.50228052, -1.33464813, -1.32561253],\n",
              "       [ 0.1456885 , -0.78155218,  0.73500739,  0.52469409],\n",
              "       [ 0.6156514 ,  0.31305872,  0.84688067,  1.44984741],\n",
              "       [ 0.1456885 , -0.12478564,  0.56719749,  0.78902361],\n",
              "       [ 2.14303083, -1.00047436,  1.74186684,  1.44984741],\n",
              "       [-1.85165383, -0.12478564, -1.50245804, -1.45777729],\n",
              "       [ 1.0856143 , -0.12478564,  0.95875394,  1.18551789],\n",
              "       [-1.02921875, -0.12478564, -1.22277486, -1.32561253],\n",
              "       [ 1.20310503,  0.09413654,  0.62313412,  0.39252933],\n",
              "       [ 0.73314213, -0.12478564,  1.12656384,  1.31768265],\n",
              "       [-1.02921875, -2.31400745, -0.15997878, -0.26829446],\n",
              "       [-0.7942373 ,  0.96982526, -1.27871149, -1.32561253],\n",
              "       [-1.02921875,  0.5319809 , -1.33464813, -1.32561253],\n",
              "       [-1.2642002 , -0.12478564, -1.33464813, -1.19344777],\n",
              "       [-0.55925585,  1.84551398, -1.16683822, -1.06128301],\n",
              "       [-1.02921875,  0.75090308, -1.27871149, -1.32561253],\n",
              "       [ 0.49816068,  0.5319809 ,  0.51126085,  0.52469409],\n",
              "       [ 0.38066995, -0.56263   ,  0.56719749,  0.78902361],\n",
              "       [ 0.49816068, -1.21939654,  0.67907076,  0.92118837],\n",
              "       [-1.49918166,  1.18874744, -1.55839467, -1.32561253],\n",
              "       [-0.08929295, -0.78155218,  0.73500739,  0.92118837],\n",
              "       [-1.38169093,  0.31305872, -1.39058477, -1.32561253],\n",
              "       [-1.73416311,  0.31305872, -1.39058477, -1.32561253],\n",
              "       [ 0.85063285, -0.12478564,  0.34345094,  0.26036458],\n",
              "       [ 0.96812358,  0.5319809 ,  1.07062721,  1.18551789],\n",
              "       [-0.3242744 , -0.78155218,  0.23157767,  0.12819982],\n",
              "       [ 1.67306793, -0.34370782,  1.40624702,  0.78902361],\n",
              "       [-0.55925585,  1.84551398, -1.39058477, -1.06128301],\n",
              "       [ 0.6156514 , -0.56263   ,  1.01469057,  1.31768265],\n",
              "       [-1.49918166,  0.31305872, -1.33464813, -1.32561253],\n",
              "       [ 1.0856143 ,  0.31305872,  1.18250048,  1.44984741],\n",
              "       [-0.20678368, -0.12478564,  0.23157767, -0.00396494],\n",
              "       [-1.38169093,  0.31305872, -1.22277486, -1.32561253],\n",
              "       [ 0.96812358, -0.12478564,  0.79094403,  1.44984741],\n",
              "       [ 1.20310503,  0.31305872,  1.07062721,  1.44984741]])"
            ]
          },
          "metadata": {},
          "execution_count": 15
        }
      ]
    },
    {
      "cell_type": "markdown",
      "source": [
        "In this step, we introduce the class GaussianNB that is used from the sklearn.naive_bayes library. Here, we have used a Gaussian model, there are several other models such as Bernoulli, Categorical and Multinomial. Here, we assign the GaussianNB class to the variable classifier and fit the X_train and y_train values to it for training purpose."
      ],
      "metadata": {
        "id": "fHscTWiVt8pC"
      }
    },
    {
      "cell_type": "code",
      "source": [
        "#Implement Naive Bayes\n",
        "from sklearn.naive_bayes import GaussianNB\n",
        "from sklearn.metrics import confusion_matrix, classification_report\n",
        "from sklearn.metrics import accuracy_score\n",
        "classifier=GaussianNB()\n",
        "classifier.fit(x_train,y_train)"
      ],
      "metadata": {
        "id": "u0z9mzISuBKw",
        "colab": {
          "base_uri": "https://localhost:8080/"
        },
        "outputId": "2548f9cb-aa84-4633-f40e-4a1783124755"
      },
      "execution_count": null,
      "outputs": [
        {
          "output_type": "execute_result",
          "data": {
            "text/plain": [
              "GaussianNB()"
            ]
          },
          "metadata": {},
          "execution_count": 19
        }
      ]
    },
    {
      "cell_type": "code",
      "source": [
        "#Predict the values for test data \n",
        "y_test_pred=classifier.predict(x_test) \n",
        "# Display accuracy score & display confusion matrix & classification report\n",
        "print(accuracy_score(y_test,y_test_pred))\n",
        "print(\"confusion matrix\")\n",
        "print(confusion_matrix(y_test,y_test_pred))\n",
        "print(\"classification report\")\n",
        "print(classification_report(y_test,y_test_pred))"
      ],
      "metadata": {
        "id": "hv382A48usEq",
        "colab": {
          "base_uri": "https://localhost:8080/"
        },
        "outputId": "541ee931-2121-4418-a3b4-98d523242084"
      },
      "execution_count": null,
      "outputs": [
        {
          "output_type": "stream",
          "name": "stdout",
          "text": [
            "0.96\n",
            "confusion matrix\n",
            "[[17  0  0]\n",
            " [ 0 16  1]\n",
            " [ 0  1 15]]\n",
            "classification report\n",
            "              precision    recall  f1-score   support\n",
            "\n",
            "           0       1.00      1.00      1.00        17\n",
            "           1       0.94      0.94      0.94        17\n",
            "           2       0.94      0.94      0.94        16\n",
            "\n",
            "    accuracy                           0.96        50\n",
            "   macro avg       0.96      0.96      0.96        50\n",
            "weighted avg       0.96      0.96      0.96        50\n",
            "\n"
          ]
        }
      ]
    },
    {
      "cell_type": "markdown",
      "source": [
        "From the above confusion matrix, we infer that, out of 45 test set data, 44 were correctly classified and only 1 was incorrectly classified. This gives us a high accuracy of 97.7%."
      ],
      "metadata": {
        "id": "JFg1mUCswAIp"
      }
    },
    {
      "cell_type": "code",
      "source": [
        "#bernoulli\n",
        "from sklearn.naive_bayes  import BernoulliNB\n",
        "athira= BernoulliNB()\n",
        "athira.fit(x_train,y_train)\n",
        "y_test_pred=athira.predict(x_test)\n",
        "print(accuracy_score(y_test,y_test_pred))\n",
        "print(\"confusion matrix\")\n",
        "print(confusion_matrix(y_test,y_test_pred))\n",
        "print(\"classification report\")\n",
        "print(classification_report(y_test,y_test_pred))"
      ],
      "metadata": {
        "colab": {
          "base_uri": "https://localhost:8080/"
        },
        "id": "0tJ7mqsMOzWS",
        "outputId": "04ca024b-4b2d-480b-a348-b5e4230f0a7b"
      },
      "execution_count": null,
      "outputs": [
        {
          "output_type": "stream",
          "name": "stdout",
          "text": [
            "0.72\n",
            "confusion matrix\n",
            "[[17  0  0]\n",
            " [ 2  6  9]\n",
            " [ 0  3 13]]\n",
            "classification report\n",
            "              precision    recall  f1-score   support\n",
            "\n",
            "           0       0.89      1.00      0.94        17\n",
            "           1       0.67      0.35      0.46        17\n",
            "           2       0.59      0.81      0.68        16\n",
            "\n",
            "    accuracy                           0.72        50\n",
            "   macro avg       0.72      0.72      0.70        50\n",
            "weighted avg       0.72      0.72      0.70        50\n",
            "\n"
          ]
        }
      ]
    }
  ]
}